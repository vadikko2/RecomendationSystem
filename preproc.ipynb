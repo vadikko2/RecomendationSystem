{
 "cells": [
  {
   "cell_type": "code",
   "execution_count": 21,
   "metadata": {},
   "outputs": [],
   "source": [
    "import os, re"
   ]
  },
  {
   "cell_type": "code",
   "execution_count": 46,
   "metadata": {},
   "outputs": [],
   "source": [
    "def decode(path_from, path_to, separator):\n",
    "    from pydub import AudioSegment\n",
    "    for l in [filename for filename in os.listdir(path_from) if '.mp3' in filename]:\n",
    "        try:\n",
    "            \n",
    "            sound = AudioSegment.from_mp3(os.path.abspath(l))\n",
    "            sound.export(os.path.abspath(path_to)+separator+re.split('[.]', l)[0]+'.wav', format=\"wav\")\n",
    "            print('Successfully decoding ' + os.path.abspath(l) + ' to WAV')\n",
    "        except Exception as e:\n",
    "            print(e)"
   ]
  },
  {
   "cell_type": "code",
   "execution_count": 48,
   "metadata": {},
   "outputs": [
    {
     "name": "stdout",
     "output_type": "stream",
     "text": [
      "Successfully decoding c:\\Users\\Kozyrevsky-V\\Documents\\recom\\RecomendationSystem\\ElthonJohn-Sacrifice.mp3 to WAV\n"
     ]
    }
   ],
   "source": [
    "decode(path_from = '.', path_to = '.', separator = '\\\\')"
   ]
  }
 ],
 "metadata": {
  "kernelspec": {
   "display_name": "Python 3",
   "language": "python",
   "name": "python3"
  }
 },
 "nbformat": 4,
 "nbformat_minor": 2
}
