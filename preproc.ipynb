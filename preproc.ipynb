{
 "cells": [
  {
   "cell_type": "code",
   "execution_count": 1,
   "metadata": {},
   "outputs": [],
   "source": [
    "import os, re\n",
    "import numpy as np\n",
    "import pickle as pkl"
   ]
  },
  {
   "cell_type": "code",
   "execution_count": 2,
   "metadata": {},
   "outputs": [],
   "source": [
    "def decode(path_from, path_to, separator):\n",
    "    if not os.path.exists(path_to):\n",
    "        os.makedirs(path_to)\n",
    "    from pydub import AudioSegment\n",
    "    for l in [filename for filename in os.listdir(path_from) if '.mp3' in filename]:\n",
    "        try:\n",
    "            print(os.path.abspath(path_from + l))\n",
    "            sound = AudioSegment.from_mp3(os.path.abspath(path_from + l))\n",
    "            sound.export(os.path.abspath(path_to)+separator+re.split('[.]', l)[0]+'.wav', format=\"wav\")\n",
    "            print('Successfully decoding ' + os.path.abspath(l) + ' to WAV')\n",
    "        except Exception as e:\n",
    "            print(e)"
   ]
  },
  {
   "cell_type": "code",
   "execution_count": 3,
   "metadata": {},
   "outputs": [],
   "source": [
    "def extr_mfcc(file_name):\n",
    "    import scipy.io.wavfile as wav\n",
    "    import speechpy\n",
    "    try:\n",
    "        fs, signal = wav.read(file_name)\n",
    "        signal = signal[:,0]\n",
    "    except Exception as e:\n",
    "        print(f'Error: reading wav file {file_name}.', e)\n",
    "    try:\n",
    "        mfcc = speechpy.feature.mfcc(signal, sampling_frequency=fs, frame_length=0.020, frame_stride=0.01,\n",
    "                 num_filters=40, fft_length=512, low_frequency=0, high_frequency=None)\n",
    "        mfcc_cmvn = speechpy.processing.cmvnw(mfcc,win_size=301,variance_normalization=True)\n",
    "        mfcc_feature_cube = speechpy.feature.extract_derivative_feature(mfcc)\n",
    "    except Exception as e:\n",
    "        print(\"Error: feature extraction.\", e) \n",
    "    return (mfcc, mfcc_cmvn, mfcc_feature_cube)"
   ]
  },
  {
   "cell_type": "code",
   "execution_count": 4,
   "metadata": {},
   "outputs": [],
   "source": [
    "def get_playlist(path):\n",
    "    for l in [filename for filename in os.listdir(path) if '.wav' in filename]:\n",
    "        yield os.path.abspath(path+l)"
   ]
  },
  {
   "cell_type": "code",
   "execution_count": 5,
   "metadata": {},
   "outputs": [],
   "source": [
    "def dump(file_name, path_to, data):\n",
    "    if not os.path.exists(path_to):\n",
    "        os.makedirs(path_to)\n",
    "    pkl_name = re.split(r'\\\\',file_name)[-1][:-4]\n",
    "    pkl.dump(features[0], open(path_to + pkl_name, 'wb'))"
   ]
  },
  {
   "cell_type": "code",
   "execution_count": 6,
   "metadata": {
    "scrolled": true
   },
   "outputs": [
    {
     "name": "stdout",
     "output_type": "stream",
     "text": [
      "c:\\Users\\Kozyrevsky-V\\Documents\\recom\\RecomendationSystem\\tracks\\Elthon John - Sacrifice.mp3\n",
      "Successfully decoding c:\\Users\\Kozyrevsky-V\\Documents\\recom\\RecomendationSystem\\Elthon John - Sacrifice.mp3 to WAV\n",
      "c:\\Users\\Kozyrevsky-V\\Documents\\recom\\RecomendationSystem\\tracks\\Elton John - Bennie and the Jets (with lyrics).mp3\n",
      "Successfully decoding c:\\Users\\Kozyrevsky-V\\Documents\\recom\\RecomendationSystem\\Elton John - Bennie and the Jets (with lyrics).mp3 to WAV\n",
      "c:\\Users\\Kozyrevsky-V\\Documents\\recom\\RecomendationSystem\\tracks\\Elton John - Can you feel the love tonight.mp3\n",
      "Successfully decoding c:\\Users\\Kozyrevsky-V\\Documents\\recom\\RecomendationSystem\\Elton John - Can you feel the love tonight.mp3 to WAV\n",
      "c:\\Users\\Kozyrevsky-V\\Documents\\recom\\RecomendationSystem\\tracks\\Elton John - Candle In The Wind.mp3\n",
      "Successfully decoding c:\\Users\\Kozyrevsky-V\\Documents\\recom\\RecomendationSystem\\Elton John - Candle In The Wind.mp3 to WAV\n",
      "c:\\Users\\Kozyrevsky-V\\Documents\\recom\\RecomendationSystem\\tracks\\Elton John - I Guess That's Why They Call It The Blues.mp3\n",
      "Successfully decoding c:\\Users\\Kozyrevsky-V\\Documents\\recom\\RecomendationSystem\\Elton John - I Guess That's Why They Call It The Blues.mp3 to WAV\n",
      "c:\\Users\\Kozyrevsky-V\\Documents\\recom\\RecomendationSystem\\tracks\\Elton John - I'm Still Standing.mp3\n",
      "Successfully decoding c:\\Users\\Kozyrevsky-V\\Documents\\recom\\RecomendationSystem\\Elton John - I'm Still Standing.mp3 to WAV\n",
      "c:\\Users\\Kozyrevsky-V\\Documents\\recom\\RecomendationSystem\\tracks\\Elton John - Rocket Man (Official Music Video).mp3\n",
      "Successfully decoding c:\\Users\\Kozyrevsky-V\\Documents\\recom\\RecomendationSystem\\Elton John - Rocket Man (Official Music Video).mp3 to WAV\n",
      "c:\\Users\\Kozyrevsky-V\\Documents\\recom\\RecomendationSystem\\tracks\\Elton John - Spirit In The Sky.mp3\n",
      "Successfully decoding c:\\Users\\Kozyrevsky-V\\Documents\\recom\\RecomendationSystem\\Elton John - Spirit In The Sky.mp3 to WAV\n",
      "c:\\Users\\Kozyrevsky-V\\Documents\\recom\\RecomendationSystem\\tracks\\Elton John - Tiny Dancer (Official Music Video).mp3\n",
      "Successfully decoding c:\\Users\\Kozyrevsky-V\\Documents\\recom\\RecomendationSystem\\Elton John - Tiny Dancer (Official Music Video).mp3 to WAV\n",
      "c:\\Users\\Kozyrevsky-V\\Documents\\recom\\RecomendationSystem\\tracks\\Elton John - Tiny Dancer.mp3\n",
      "Successfully decoding c:\\Users\\Kozyrevsky-V\\Documents\\recom\\RecomendationSystem\\Elton John - Tiny Dancer.mp3 to WAV\n"
     ]
    }
   ],
   "source": [
    "decode(path_from = '.\\\\tracks\\\\', path_to = '.\\\\wavs\\\\', separator = '\\\\')"
   ]
  },
  {
   "cell_type": "code",
   "execution_count": 7,
   "metadata": {
    "scrolled": true
   },
   "outputs": [
    {
     "name": "stdout",
     "output_type": "stream",
     "text": [
      "Error: reading wav file c:\\Users\\Kozyrevsky-V\\Documents\\recom\\RecomendationSystem\\wavs\\Elton John - Bennie and the Jets (with lyrics).wav. too many indices for array\n"
     ]
    }
   ],
   "source": [
    "for file_name in get_playlist('.\\\\wavs\\\\'):\n",
    "    features = extr_mfcc(file_name)\n",
    "    dump(file_name, \".\\\\mfccs\\\\\", features[0])"
   ]
  }
 ],
 "metadata": {
  "kernelspec": {
   "display_name": "Python 3",
   "language": "python",
   "name": "python3"
  },
  "language_info": {
   "codemirror_mode": {
    "name": "ipython",
    "version": 3
   },
   "file_extension": ".py",
   "mimetype": "text/x-python",
   "name": "python",
   "nbconvert_exporter": "python",
   "pygments_lexer": "ipython3",
   "version": "3.6.4"
  }
 },
 "nbformat": 4,
 "nbformat_minor": 2
}
