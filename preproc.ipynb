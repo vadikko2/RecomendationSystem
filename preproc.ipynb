{
 "cells": [
  {
   "cell_type": "code",
   "execution_count": 1,
   "metadata": {},
   "outputs": [],
   "source": [
    "import os, re\n",
    "import numpy as np"
   ]
  },
  {
   "cell_type": "code",
   "execution_count": 2,
   "metadata": {},
   "outputs": [],
   "source": [
    "def decode(path_from, path_to, separator):\n",
    "    from pydub import AudioSegment\n",
    "    for l in [filename for filename in os.listdir(path_from) if '.mp3' in filename]:\n",
    "        try:\n",
    "            sound = AudioSegment.from_mp3(os.path.abspath(l))\n",
    "            sound.export(os.path.abspath(path_to)+separator+re.split('[.]', l)[0]+'.wav', format=\"wav\")\n",
    "            print('Successfully decoding ' + os.path.abspath(l) + ' to WAV')\n",
    "        except Exception as e:\n",
    "            print(e)"
   ]
  },
  {
   "cell_type": "code",
   "execution_count": 3,
   "metadata": {},
   "outputs": [],
   "source": [
    "def extr_mfcc(file_name):\n",
    "    import scipy.io.wavfile as wav\n",
    "    import speechpy\n",
    "    try:\n",
    "        fs, signal = wav.read(file_name)\n",
    "        signal = signal[:,0]\n",
    "    except Exception as e:\n",
    "        print(\"Error: reading wav file.\", e)\n",
    "    try:\n",
    "        mfcc = speechpy.feature.mfcc(signal, sampling_frequency=fs, frame_length=0.020, frame_stride=0.01,\n",
    "                 num_filters=40, fft_length=512, low_frequency=0, high_frequency=None)\n",
    "        mfcc_cmvn = speechpy.processing.cmvnw(mfcc,win_size=301,variance_normalization=True)\n",
    "        mfcc_feature_cube = speechpy.feature.extract_derivative_feature(mfcc)\n",
    "    except Exception as e:\n",
    "        print(\"Error: feature extraction.\", e) \n",
    "    return (mfcc, mfcc_cmvn, mfcc_feature_cube)"
   ]
  },
  {
   "cell_type": "code",
   "execution_count": 4,
   "metadata": {},
   "outputs": [],
   "source": [
    "def get_playlist(path):\n",
    "    for l in [filename for filename in os.listdir(path) if '.wav' in filename]:\n",
    "        yield os.path.abspath(l)"
   ]
  },
  {
   "cell_type": "code",
   "execution_count": 5,
   "metadata": {},
   "outputs": [
    {
     "name": "stdout",
     "output_type": "stream",
     "text": [
      "Successfully decoding c:\\Users\\Kozyrevsky-V\\Documents\\recom\\RecomendationSystem\\ElthonJohn-Sacrifice.mp3 to WAV\n",
      "c:\\Users\\Kozyrevsky-V\\Documents\\recom\\RecomendationSystem\\ElthonJohn-Sacrifice.wav: mfcc feature shape= (30763, 13)\n",
      "c:\\Users\\Kozyrevsky-V\\Documents\\recom\\RecomendationSystem\\ElthonJohn-Sacrifice.wav: mfcc(mean + variance normalized) feature shape= (30763, 13)\n",
      "c:\\Users\\Kozyrevsky-V\\Documents\\recom\\RecomendationSystem\\ElthonJohn-Sacrifice.wav: mfcc feature cube shape= (30763, 13, 3)\n"
     ]
    }
   ],
   "source": [
    "decode(path_from = '.', path_to = '.', separator = '\\\\')\n",
    "for file_name in get_playlist('.'):\n",
    "    features = extr_mfcc(file_name)\n",
    "    print(file_name+': mfcc feature shape=', features[0].shape)\n",
    "    print(file_name+': mfcc(mean + variance normalized) feature shape=',  features[1].shape)\n",
    "    print(file_name+': mfcc feature cube shape=', features[2].shape)"
   ]
  }
 ],
 "metadata": {
  "kernelspec": {
   "display_name": "Python 3",
   "language": "python",
   "name": "python3"
  },
  "language_info": {
   "codemirror_mode": {
    "name": "ipython",
    "version": 3
   },
   "file_extension": ".py",
   "mimetype": "text/x-python",
   "name": "python",
   "nbconvert_exporter": "python",
   "pygments_lexer": "ipython3",
   "version": "3.6.4"
  }
 },
 "nbformat": 4,
 "nbformat_minor": 2
}
