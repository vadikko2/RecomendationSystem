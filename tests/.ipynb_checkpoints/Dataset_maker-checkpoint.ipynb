{
 "cells": [
  {
   "cell_type": "code",
   "execution_count": 2,
   "metadata": {},
   "outputs": [],
   "source": [
    "import sys\n",
    "sys.path.insert(0, r'../')\n",
    "import src.dataset as ds\n",
    "import os"
   ]
  },
  {
   "cell_type": "code",
   "execution_count": null,
   "metadata": {},
   "outputs": [],
   "source": [
    "def init_features(path_with_infos = '../jsons/'):\n",
    "    parser_params = {\n",
    "        'path_from':\"../tracks/\",\n",
    "        'path_to':\"../jsons/\",\n",
    "        'user_id': 1\n",
    "    }\n",
    "\n",
    "    for file_info in os.listdir(path_with_infos):\n",
    "        f_extr_params = {\n",
    "            'path_from':\"../tracks/\",\n",
    "            'path_to':\"../mfccs/\",\n",
    "            'tmp_path_for_wavs':\"../wavs/\",\n",
    "            'separator':\"/\",\n",
    "            'methode':\"mfcc\",\n",
    "            'linear':True\n",
    "        }\n",
    "        ds.init_features(parser_params=parser_params, f_extr_params=f_extr_params)"
   ]
  }
 ],
 "metadata": {
  "kernelspec": {
   "display_name": "Python 3",
   "language": "python",
   "name": "python3"
  },
  "language_info": {
   "codemirror_mode": {
    "name": "ipython",
    "version": 3
   },
   "file_extension": ".py",
   "mimetype": "text/x-python",
   "name": "python",
   "nbconvert_exporter": "python",
   "pygments_lexer": "ipython3",
   "version": "3.6.4"
  }
 },
 "nbformat": 4,
 "nbformat_minor": 2
}
