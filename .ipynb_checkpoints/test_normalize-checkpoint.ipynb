{
 "cells": [
  {
   "cell_type": "code",
   "execution_count": 1,
   "metadata": {},
   "outputs": [],
   "source": [
    "import pandas as pd\n",
    "import numpy as np\n",
    "from sklearn import preprocessing"
   ]
  },
  {
   "cell_type": "code",
   "execution_count": 27,
   "metadata": {},
   "outputs": [
    {
     "name": "stdout",
     "output_type": "stream",
     "text": [
      "   0  1  2\n",
      "0  1  2  3\n",
      "1  0  4  3\n",
      "2  1  6  0 \n",
      "\n",
      "   0  1    2\n",
      "0  1  2    3\n",
      "1  0  4  800\n",
      "2  1  9    0 \n",
      "\n",
      "[[0.26726124 0.53452248 0.80178373]\n",
      " [0.         0.8        0.6       ]\n",
      " [0.16439899 0.98639392 0.        ]] \n",
      "\n",
      "[[0.26726124 0.53452248 0.80178373]\n",
      " [0.         0.00499994 0.9999875 ]\n",
      " [0.11043153 0.99388373 0.        ]] \n",
      "\n",
      "{'copy': True, 'norm': 'l2'} \n",
      "\n"
     ]
    }
   ],
   "source": [
    "x = np.asarray([[1,2,3],[0,4,3], [1,6,0]])\n",
    "X = pd.DataFrame(x)\n",
    "#scalar = preprocessing.QuantileTransformer().fit(X)\n",
    "scalar = preprocessing.Normalizer()\n",
    "new_x = np.asarray([[1,2,3],[0,4,800], [1,9,0]])\n",
    "new_X = pd.DataFrame(new_x)\n",
    "print(X, '\\n')\n",
    "print(new_X, '\\n')\n",
    "print(scalar.transform(X), '\\n')\n",
    "print(scalar.transform(new_X), '\\n')\n",
    "print(scalar.get_params(), '\\n')"
   ]
  }
 ],
 "metadata": {
  "kernelspec": {
   "display_name": "Python 3",
   "language": "python",
   "name": "python3"
  },
  "language_info": {
   "codemirror_mode": {
    "name": "ipython",
    "version": 3
   },
   "file_extension": ".py",
   "mimetype": "text/x-python",
   "name": "python",
   "nbconvert_exporter": "python",
   "pygments_lexer": "ipython3",
   "version": "3.6.4"
  }
 },
 "nbformat": 4,
 "nbformat_minor": 2
}
