{
 "cells": [
  {
   "cell_type": "code",
   "execution_count": 20,
   "metadata": {},
   "outputs": [],
   "source": [
    "import pylast\n",
    "# In order to perform a write operation you need to authenticate yourself\n",
    "username = \"vadikko2\"\n",
    "password_hash = pylast.md5(\"asusp53%\")\n",
    "API_KEY = '1fe45342cda1c542c2999411746690d3'\n",
    "API_SECRET = '033387116f92f1fd4dbbc54181ebccce'\n",
    "network = pylast.LastFMNetwork(api_key=API_KEY, api_secret=API_SECRET,username=username, password_hash=password_hash)"
   ]
  },
  {
   "cell_type": "code",
   "execution_count": 24,
   "metadata": {},
   "outputs": [
    {
     "name": "stdout",
     "output_type": "stream",
     "text": [
      "Iron Maiden - The Nomad\n"
     ]
    }
   ],
   "source": [
    "track = network.get_track(\"Iron Maiden\", \"The Nomad\")"
   ]
  }
 ],
 "metadata": {
  "kernelspec": {
   "display_name": "Python 3",
   "language": "python",
   "name": "python3"
  },
  "language_info": {
   "codemirror_mode": {
    "name": "ipython",
    "version": 3
   },
   "file_extension": ".py",
   "mimetype": "text/x-python",
   "name": "python",
   "nbconvert_exporter": "python",
   "pygments_lexer": "ipython3",
   "version": "3.6.4"
  }
 },
 "nbformat": 4,
 "nbformat_minor": 2
}
