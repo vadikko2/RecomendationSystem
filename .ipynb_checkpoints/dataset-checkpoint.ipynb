{
 "cells": [
  {
   "cell_type": "code",
   "execution_count": 3,
   "metadata": {},
   "outputs": [],
   "source": [
    "import numpy as np\n",
    "import os\n",
    "import json\n",
    "import pickle as pkl"
   ]
  },
  {
   "cell_type": "code",
   "execution_count": 6,
   "metadata": {},
   "outputs": [],
   "source": [
    "def make_dataset(json_name):\n",
    "    X, Y = [], []\n",
    "    meta = json.load(open(json_name))\n",
    "    for sample in meta:\n",
    "        features_file  = sample['features']\n",
    "        features = pickle.load(open(features_file, \"rb\" ))\n",
    "        X.append(features)\n",
    "        Y.append(sample['tags'])#TODO сделать препроцессинг тегов\n",
    "    return np.asarray(X), np.asarray(Y)"
   ]
  }
 ],
 "metadata": {
  "kernelspec": {
   "display_name": "Python 3",
   "language": "python",
   "name": "python3"
  },
  "language_info": {
   "codemirror_mode": {
    "name": "ipython",
    "version": 3
   },
   "file_extension": ".py",
   "mimetype": "text/x-python",
   "name": "python",
   "nbconvert_exporter": "python",
   "pygments_lexer": "ipython3",
   "version": "3.6.4"
  }
 },
 "nbformat": 4,
 "nbformat_minor": 2
}
