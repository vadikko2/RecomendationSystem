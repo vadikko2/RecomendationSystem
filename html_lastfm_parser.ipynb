{
 "cells": [
  {
   "cell_type": "code",
   "execution_count": 44,
   "metadata": {},
   "outputs": [],
   "source": [
    "import requests as req\n",
    "import lxml.html\n",
    "import json\n",
    "import re"
   ]
  },
  {
   "cell_type": "code",
   "execution_count": 52,
   "metadata": {},
   "outputs": [],
   "source": [
    "def get_song_tags(artist = \"\", track = \"\"):\n",
    "    tmp_artist = artist.lower().replace(' ', '+')\n",
    "    tmp_track = track.lower().replace(' ', '+')\n",
    "    url = f'https://www.last.fm/music/{tmp_artist}/_/{tmp_track}'\n",
    "    html_from_last_fm = req.get(url).text\n",
    "    html = lxml.html.fromstring(html_from_last_fm)\n",
    "    track_dict = {'artist': artist, 'track': track, 'tags':[]}\n",
    "    for li in html.xpath(\"//ul[@class='tags-list tags-list--global']/li\"):\n",
    "        track_dict['tags'].append(li.text_content())\n",
    "    return track_dict"
   ]
  },
  {
   "cell_type": "code",
   "execution_count": 58,
   "metadata": {},
   "outputs": [
    {
     "name": "stdout",
     "output_type": "stream",
     "text": [
      "{'artist': 'Elthon John', 'track': 'goodbye yellow brick road', 'tags': ['70s', 'classic rock', 'pop', 'elton john', 'rock']}\n"
     ]
    }
   ],
   "source": [
    "tags = get_song_tags(artist='Elthon John', track='goodbye yellow brick road')\n",
    "print(tags)"
   ]
  }
 ],
 "metadata": {
  "kernelspec": {
   "display_name": "Python 3",
   "language": "python",
   "name": "python3"
  },
  "language_info": {
   "codemirror_mode": {
    "name": "ipython",
    "version": 3
   },
   "file_extension": ".py",
   "mimetype": "text/x-python",
   "name": "python",
   "nbconvert_exporter": "python",
   "pygments_lexer": "ipython3",
   "version": "3.6.4"
  }
 },
 "nbformat": 4,
 "nbformat_minor": 2
}
