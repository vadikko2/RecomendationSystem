{
 "cells": [
  {
   "cell_type": "code",
   "execution_count": 1,
   "metadata": {},
   "outputs": [],
   "source": [
    "import requests as req\n",
    "import lxml.html\n",
    "import json\n",
    "import re, os"
   ]
  },
  {
   "cell_type": "code",
   "execution_count": 21,
   "metadata": {},
   "outputs": [],
   "source": [
    "def get_song_tags(artist = \"\", track = \"\"):\n",
    "    tmp_artist = artist.lower().replace(' ', '+')\n",
    "    tmp_track = track.lower().replace(' ', '+')\n",
    "    url = f'https://www.last.fm/music/{tmp_artist}/_/{tmp_track}'\n",
    "    html_from_last_fm = req.get(url).text\n",
    "    html = lxml.html.fromstring(html_from_last_fm)\n",
    "    track_dict = {'artist': artist, 'track': track, 'tags':[]}\n",
    "    for li in html.xpath(\"//ul[@class='tags-list tags-list--global']/li\"):\n",
    "        track_dict['tags'].append(li.text_content())\n",
    "    return track_dict"
   ]
  },
  {
   "cell_type": "code",
   "execution_count": 25,
   "metadata": {},
   "outputs": [],
   "source": [
    "def get_track_list(path):\n",
    "    for file in os.listdir(path):\n",
    "        track_info = re.split('[-]', file[:-4])\n",
    "        if track_info[0][-1] == ' ':\n",
    "            track_info[0] = track_info[0][:-1]\n",
    "        if track_info[1][0] == ' ':\n",
    "            track_info[1] = track_info[1][1:]\n",
    "        yield track_info[0], track_info[1], file"
   ]
  },
  {
   "cell_type": "code",
   "execution_count": 28,
   "metadata": {},
   "outputs": [],
   "source": [
    "def make_json(path, user_id):\n",
    "    info = []\n",
    "    #TODO добавить проверку на наличие тегов. Если нет тегов дальше ничего не делаем\n",
    "    for artist, track, file_name in get_track_list(path):\n",
    "        meta = get_song_tags(artist= artist, track= track)\n",
    "        meta['file_name'] = file_name\n",
    "        info.append(meta)\n",
    "    with open(path+f'{user_id}_info.json', 'w') as fp:\n",
    "        json.dump(info, fp)"
   ]
  },
  {
   "cell_type": "code",
   "execution_count": 29,
   "metadata": {},
   "outputs": [],
   "source": [
    "make_json('.//tracks//', 1)"
   ]
  }
 ],
 "metadata": {
  "kernelspec": {
   "display_name": "Python 3",
   "language": "python",
   "name": "python3"
  },
  "language_info": {
   "codemirror_mode": {
    "name": "ipython",
    "version": 3
   },
   "file_extension": ".py",
   "mimetype": "text/x-python",
   "name": "python",
   "nbconvert_exporter": "python",
   "pygments_lexer": "ipython3",
   "version": "3.6.4"
  }
 },
 "nbformat": 4,
 "nbformat_minor": 2
}
