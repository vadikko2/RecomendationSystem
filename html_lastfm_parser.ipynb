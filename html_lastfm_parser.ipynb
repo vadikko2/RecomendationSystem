{
 "cells": [
  {
   "cell_type": "code",
   "execution_count": 32,
   "metadata": {},
   "outputs": [],
   "source": [
    "import requests as req\n",
    "import lxml.html\n",
    "import json\n",
    "import re, os"
   ]
  },
  {
   "cell_type": "code",
   "execution_count": 33,
   "metadata": {},
   "outputs": [],
   "source": [
    "def get_song_tags(artist = \"\", track = \"\"):\n",
    "    tmp_artist = artist.lower().replace(' ', '+')\n",
    "    tmp_track = track.lower().replace(' ', '+')\n",
    "    url = f'https://www.last.fm/music/{tmp_artist}/_/{tmp_track}'\n",
    "    html_from_last_fm = req.get(url).text\n",
    "    html = lxml.html.fromstring(html_from_last_fm)\n",
    "    track_dict = {'artist': artist, 'track': track, 'tags':[]}\n",
    "    for li in html.xpath(\"//ul[@class='tags-list tags-list--global']/li\"):\n",
    "        track_dict['tags'].append(li.text_content())\n",
    "    return track_dict"
   ]
  },
  {
   "cell_type": "code",
   "execution_count": 34,
   "metadata": {},
   "outputs": [],
   "source": [
    "def get_track_list(path):\n",
    "    for file in os.listdir(path):\n",
    "        track_info = re.split('[-]', file[:-4])\n",
    "        if track_info[0][-1] == ' ':\n",
    "            track_info[0] = track_info[0][:-1]\n",
    "        if track_info[1][0] == ' ':\n",
    "            track_info[1] = track_info[1][1:]\n",
    "        yield track_info[0], track_info[1], file"
   ]
  },
  {
   "cell_type": "code",
   "execution_count": 45,
   "metadata": {},
   "outputs": [],
   "source": [
    "def get_json(path):\n",
    "    info = []\n",
    "    #TODO добавить проверку на наличие тегов. Если нет тегов дальше ничего не делаем\n",
    "    for artist, track, file_name in get_track_list(path):\n",
    "        meta = get_song_tags(artist= artist, track= track)\n",
    "        meta['file_name'] = file_name\n",
    "        info.append(meta)\n",
    "    return info"
   ]
  },
  {
   "cell_type": "code",
   "execution_count": 46,
   "metadata": {},
   "outputs": [],
   "source": [
    "def dump(info, path, user_id):\n",
    "    with open(path+f'{user_id}_info.json', 'w') as fp:\n",
    "        json.dump(info, fp)"
   ]
  },
  {
   "cell_type": "code",
   "execution_count": 49,
   "metadata": {},
   "outputs": [
    {
     "name": "stdout",
     "output_type": "stream",
     "text": [
      "[{'artist': 'Best Songs Of Elton John', 'track': 'Elton John Greatest Hits Playlist', 'tags': [], 'file_name': 'Best Songs Of Elton John - Elton John Greatest Hits Playlist.mp3'}, {'artist': 'Billy Joel, Elton John', 'track': 'Piano Man (live)', 'tags': ['classic rock'], 'file_name': 'Billy Joel, Elton John - Piano Man (live).mp3'}, {'artist': 'DJ Snake', 'track': 'Magenta Riddim', 'tags': ['party', '2018 single', 'moombahton'], 'file_name': 'DJ Snake - Magenta Riddim.mp3'}, {'artist': 'Elthon John', 'track': 'Sacrifice', 'tags': ['pop', '80s', 'elton john', 'classic rock', 'british'], 'file_name': 'Elthon John - Sacrifice.mp3'}, {'artist': 'Elton John', 'track': 'Bennie and the Jets (with lyrics)', 'tags': ['pop', 'classic rock', 'singer-songwriter', 'rock', 'piano'], 'file_name': 'Elton John - Bennie and the Jets (with lyrics).mp3'}, {'artist': 'Elton John', 'track': 'Can you feel the love tonight', 'tags': ['soundtrack', 'disney', 'pop', '90s', 'piano'], 'file_name': 'Elton John - Can you feel the love tonight.mp3'}, {'artist': 'Elton John', 'track': 'Candle In The Wind', 'tags': ['pop', 'classic rock', 'elton john', 'rock', 'piano'], 'file_name': 'Elton John - Candle In The Wind.mp3'}, {'artist': 'Elton John', 'track': \"I Guess That's Why They Call It The Blues\", 'tags': ['pop', 'classic rock', '80s', 'elton john', 'rock'], 'file_name': \"Elton John - I Guess That's Why They Call It The Blues.mp3\"}, {'artist': 'Elton John', 'track': \"I'm Still Standing\", 'tags': ['80s', 'pop', 'rock', 'elton john', 'classic rock'], 'file_name': \"Elton John - I'm Still Standing.mp3\"}, {'artist': 'Elton John', 'track': 'Rocket Man (Official Music Video)', 'tags': ['pop', 'classic rock', 'singer-songwriter', 'rock', 'piano'], 'file_name': 'Elton John - Rocket Man (Official Music Video).mp3'}, {'artist': 'Elton John', 'track': 'Spirit In The Sky', 'tags': ['pop', 'classic rock', 'cover', 'elton john spirit in the sky'], 'file_name': 'Elton John - Spirit In The Sky.mp3'}, {'artist': 'Elton John', 'track': 'Tiny Dancer (Official Music Video)', 'tags': ['pop', 'classic rock', 'singer-songwriter', 'rock', 'piano'], 'file_name': 'Elton John - Tiny Dancer (Official Music Video).mp3'}, {'artist': 'Elton John', 'track': 'Tiny Dancer', 'tags': ['classic rock', '70s', 'piano', 'pop', 'rock'], 'file_name': 'Elton John - Tiny Dancer.mp3'}]\n"
     ]
    }
   ],
   "source": [
    "info = get_json('.//tracks//')\n",
    "print(info)\n",
    "dump(info,'', 1)"
   ]
  }
 ],
 "metadata": {
  "kernelspec": {
   "display_name": "Python 3",
   "language": "python",
   "name": "python3"
  },
  "language_info": {
   "codemirror_mode": {
    "name": "ipython",
    "version": 3
   },
   "file_extension": ".py",
   "mimetype": "text/x-python",
   "name": "python",
   "nbconvert_exporter": "python",
   "pygments_lexer": "ipython3",
   "version": "3.6.4"
  }
 },
 "nbformat": 4,
 "nbformat_minor": 2
}
