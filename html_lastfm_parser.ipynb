{
 "cells": [
  {
   "cell_type": "code",
   "execution_count": 1,
   "metadata": {},
   "outputs": [],
   "source": [
    "import requests as req\n",
    "import lxml.html\n",
    "import json\n",
    "import re, os"
   ]
  },
  {
   "cell_type": "code",
   "execution_count": 2,
   "metadata": {},
   "outputs": [],
   "source": [
    "def get_song_tags(artist = \"\", track = \"\"):\n",
    "    tmp_artist = artist.lower().replace(' ', '+')\n",
    "    tmp_track = track.lower().replace(' ', '+')\n",
    "    url = f'https://www.last.fm/music/{tmp_artist}/_/{tmp_track}'\n",
    "    html_from_last_fm = req.get(url).text\n",
    "    html = lxml.html.fromstring(html_from_last_fm)\n",
    "    track_dict = {'artist': artist, 'track': track, 'tags':[]}\n",
    "    for li in html.xpath(\"//ul[@class='tags-list tags-list--global']/li\"):\n",
    "        track_dict['tags'].append(li.text_content())\n",
    "    return track_dict"
   ]
  },
  {
   "cell_type": "code",
   "execution_count": 3,
   "metadata": {},
   "outputs": [],
   "source": [
    "def get_track_list(path):\n",
    "    for file in os.listdir(path):\n",
    "        track_info = re.split('[-]', file[:-4])\n",
    "        if track_info[0][-1] == ' ':\n",
    "            track_info[0] = track_info[0][:-1]\n",
    "        if track_info[1][0] == ' ':\n",
    "            track_info[1] = track_info[1][1:]\n",
    "        yield track_info[0], track_info[1], file"
   ]
  },
  {
   "cell_type": "code",
   "execution_count": 4,
   "metadata": {},
   "outputs": [],
   "source": [
    "def get_json(path):\n",
    "    info = []\n",
    "    #TODO добавить проверку на наличие тегов. Если нет тегов дальше ничего не делаем\n",
    "    for artist, track, file_name in get_track_list(path):\n",
    "        meta = get_song_tags(artist= artist, track= track)\n",
    "        meta['file_name'] = file_name\n",
    "        info.append(meta)\n",
    "    return info"
   ]
  },
  {
   "cell_type": "code",
   "execution_count": 5,
   "metadata": {},
   "outputs": [],
   "source": [
    "def dump(info, path, user_id):\n",
    "    with open(path+f'{user_id}_info.json', 'w') as fp:\n",
    "        json.dump(info, fp)"
   ]
  },
  {
   "cell_type": "code",
   "execution_count": 7,
   "metadata": {},
   "outputs": [
    {
     "name": "stdout",
     "output_type": "stream",
     "text": [
      "[{'artist': '2Pac', 'track': 'Dear Mama', 'tags': ['rap', 'hip-hop', '2pac', 'gangsta rap', 'hip hop'], 'file_name': '2Pac - Dear Mama.mp3'}, {'artist': 'AC_DC', 'track': 'Hells Bells', 'tags': ['hard rock', 'rock', 'classic rock', 'heavy metal'], 'file_name': 'AC_DC - Hells Bells.mp3'}, {'artist': 'DJ Snake', 'track': 'Magenta Riddim', 'tags': ['party', '2018 single', 'moombahton'], 'file_name': 'DJ Snake - Magenta Riddim.mp3'}, {'artist': 'Elthon John', 'track': 'Sacrifice', 'tags': ['pop', '80s', 'elton john', 'classic rock', 'british'], 'file_name': 'Elthon John - Sacrifice.mp3'}, {'artist': 'Eminem', 'track': 'Framed', 'tags': ['return to origins'], 'file_name': 'Eminem - Framed.mp3'}, {'artist': 'Godsmack', 'track': 'I Stand Alone', 'tags': ['hard rock', 'metal', 'nu metal', 'rock', 'godsmack'], 'file_name': 'Godsmack - I Stand Alone.mp3'}, {'artist': 'Mozart', 'track': 'Requiem in D minor Complete Full', 'tags': ['classical', 'instrumental', 'composers', 'classic'], 'file_name': 'Mozart - Requiem in D minor Complete Full.mp3'}, {'artist': 'Nirvana', 'track': 'Lithium', 'tags': ['grunge', 'rock', '90s', 'alternative', 'nirvana'], 'file_name': 'Nirvana - Lithium.mp3'}]\n"
     ]
    }
   ],
   "source": [
    "info = get_json('.//tracks//')\n",
    "print(info)\n",
    "dump(info,'', 1)"
   ]
  }
 ],
 "metadata": {
  "kernelspec": {
   "display_name": "Python 3",
   "language": "python",
   "name": "python3"
  },
  "language_info": {
   "codemirror_mode": {
    "name": "ipython",
    "version": 3
   },
   "file_extension": ".py",
   "mimetype": "text/x-python",
   "name": "python",
   "nbconvert_exporter": "python",
   "pygments_lexer": "ipython3",
   "version": "3.6.4"
  }
 },
 "nbformat": 4,
 "nbformat_minor": 2
}
