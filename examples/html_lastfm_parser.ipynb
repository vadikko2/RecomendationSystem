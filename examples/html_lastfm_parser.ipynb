{
 "cells": [
  {
   "cell_type": "code",
   "execution_count": 1,
   "metadata": {},
   "outputs": [],
   "source": [
    "import requests as req\n",
    "import lxml.html\n",
    "import json\n",
    "import re, os\n",
    "import pickle\n",
    "import codecs\n",
    "import operator\n",
    "import numpy as np"
   ]
  },
  {
   "cell_type": "code",
   "execution_count": 2,
   "metadata": {},
   "outputs": [],
   "source": [
    "def tags_filter(tags, artist, track):\n",
    "    filtered = []\n",
    "    garbage = [str(i) for i in range(10)]\n",
    "    for tag in tags:\n",
    "        check = True\n",
    "        for g in garbage:\n",
    "            if (g in tag) or (artist in tag) or (track in tag):\n",
    "                check = False\n",
    "                break\n",
    "        if check:\n",
    "            filtered.append(tag)\n",
    "    return filtered"
   ]
  },
  {
   "cell_type": "code",
   "execution_count": 3,
   "metadata": {},
   "outputs": [],
   "source": [
    "def get_song_tags(artist = \"\", track = \"\"):\n",
    "    tmp_artist = artist.lower().replace(' ', '+')\n",
    "    tmp_track = track.lower().replace(' ', '+')\n",
    "    url = f'https://www.last.fm/music/{tmp_artist}/_/{tmp_track}'\n",
    "    html_from_last_fm = req.get(url).text\n",
    "    html = lxml.html.fromstring(html_from_last_fm)\n",
    "    track_dict = {'artist': artist, 'track': track, 'tags':[]}\n",
    "    for li in html.xpath(\"//ul[@class='tags-list tags-list--global']/li\"):\n",
    "        track_dict['tags'].append(str(li.text_content().lower().replace('-', ' ')))\n",
    "    track_dict['tags'] = tags_filter(track_dict['tags'], tmp_artist, tmp_track)\n",
    "    print('{artist}-{track} tags was parsed: {tags}'.format(artist=artist, track=track, tags=track_dict['tags']))\n",
    "    return track_dict"
   ]
  },
  {
   "cell_type": "code",
   "execution_count": 4,
   "metadata": {},
   "outputs": [],
   "source": [
    "def get_track_list(path):\n",
    "    for file in os.listdir(path):\n",
    "        track_info = re.split('[-]', file[:-4])\n",
    "        if track_info[0][-1] == ' ':\n",
    "            track_info[0] = track_info[0][:-1]\n",
    "        if track_info[1][0] == ' ':\n",
    "            track_info[1] = track_info[1][1:]\n",
    "        yield track_info[0], track_info[1], file"
   ]
  },
  {
   "cell_type": "code",
   "execution_count": 5,
   "metadata": {},
   "outputs": [],
   "source": [
    "def get_json(path):\n",
    "    info = []\n",
    "    for artist, track, file_name in get_track_list(path):\n",
    "        meta = get_song_tags(artist= artist, track= track)\n",
    "        meta['file_name'] = file_name\n",
    "        if meta['tags']:\n",
    "            info.append(meta)\n",
    "    return info"
   ]
  },
  {
   "cell_type": "code",
   "execution_count": 6,
   "metadata": {},
   "outputs": [],
   "source": [
    "def dump(info, path, user_id):\n",
    "    with open(path+f'{user_id}_info.json', 'w') as fp:\n",
    "        json.dump(info, fp, sort_keys=True, indent=4)"
   ]
  },
  {
   "cell_type": "code",
   "execution_count": 7,
   "metadata": {},
   "outputs": [],
   "source": [
    "def load_ganres(path):\n",
    "    for filename in os.listdir(os.path.abspath(path)):\n",
    "        sub_ganres = []\n",
    "        with open(os.path.abspath(path)+'\\\\'+filename, 'r') as f:\n",
    "            yield filename[:-4], [tag.lower().replace('-', ' ') for tag in f.read().split('\\n')]"
   ]
  },
  {
   "cell_type": "code",
   "execution_count": 8,
   "metadata": {},
   "outputs": [],
   "source": [
    "def dump_ganres_co_occ(co_occ_path, co_occ):\n",
    "    with open(co_occ_path+'ganresCoOcc.pkl', 'wb') as f:\n",
    "        pickle.dump(co_occ, f, pickle.HIGHEST_PROTOCOL)    "
   ]
  },
  {
   "cell_type": "code",
   "execution_count": 9,
   "metadata": {},
   "outputs": [],
   "source": [
    "def init_ganres_co_occ(path, co_occ_path):\n",
    "    co_occ = {}\n",
    "    for ganre, sub_ganres in load_ganres(path):\n",
    "        for sg in sub_ganres:\n",
    "            co_occ[sg] = 0\n",
    "    dump_ganres_co_occ(co_occ_path, co_occ)\n",
    "    return co_occ"
   ]
  },
  {
   "cell_type": "code",
   "execution_count": 10,
   "metadata": {},
   "outputs": [],
   "source": [
    "def who_exist(co_occ_el, tags):\n",
    "    first = co_occ_el.keys()\n",
    "    result = []\n",
    "    for t in tags:\n",
    "        if t in first:\n",
    "            result.append(t)\n",
    "    return result"
   ]
  },
  {
   "cell_type": "code",
   "execution_count": 11,
   "metadata": {},
   "outputs": [],
   "source": [
    "def update_ganres_co_occ(co_occ, dataset_json):\n",
    "    for song in dataset_json:\n",
    "        tags = song['tags']\n",
    "        existed = who_exist(co_occ, tags)\n",
    "        if len(existed):\n",
    "            for tag in tags:\n",
    "                if tag in existed:\n",
    "                    co_occ[tag]+=1\n",
    "                else:\n",
    "                    co_occ[tag] = 1\n",
    "    return co_occ"
   ]
  },
  {
   "cell_type": "code",
   "execution_count": 12,
   "metadata": {},
   "outputs": [],
   "source": [
    "def init_co_occ_matrix(path_with_ganres='..\\\\ganres_full\\\\', path_to_save='..\\\\'):\n",
    "    co_occ = init_ganres_co_occ(path=path_with_ganres, co_occ_path=path_to_save)\n",
    "    print(co_occ)\n",
    "    return co_occ"
   ]
  },
  {
   "cell_type": "code",
   "execution_count": 13,
   "metadata": {
    "scrolled": true
   },
   "outputs": [],
   "source": [
    "def update_co_occ_matrix(co_occ, path_with_tracks='..\\\\tracks\\\\', path_to_save_info='..\\\\jsons\\\\', path_to_save_co_occ='..\\\\'):\n",
    "    for folder in os.listdir(path_with_tracks):\n",
    "        info = get_json('{path}{folder}\\\\'.format(folder=folder, path=path_with_tracks))\n",
    "        dump(info, path_to_save_info, folder)\n",
    "        co_occ = update_ganres_co_occ(co_occ, info)\n",
    "        dump_ganres_co_occ(path_to_save_co_occ, co_occ)\n",
    "        dump(co_occ,path_to_save_co_occ, 'co_occ')\n",
    "    return co_occ"
   ]
  },
  {
   "cell_type": "code",
   "execution_count": 14,
   "metadata": {},
   "outputs": [],
   "source": [
    "def load_co_occ(path='..\\\\', filename='ganresCoOcc.pkl'):\n",
    "    with open(path+filename, 'rb') as f:\n",
    "        co_occ = pickle.load(f)\n",
    "    co_occ = sorted(co_occ.items(), key=operator.itemgetter(1))\n",
    "    co_occ.reverse()\n",
    "    return co_occ"
   ]
  },
  {
   "cell_type": "code",
   "execution_count": 15,
   "metadata": {},
   "outputs": [],
   "source": [
    "def get_y(co_occ, tags):\n",
    "    y = np.zeros(len(co_occ))\n",
    "    for tag in tags:\n",
    "        for i in range(len(co_occ)):\n",
    "            if co_occ[i][0] == tag:\n",
    "                y[i] = 1\n",
    "                break\n",
    "    return y"
   ]
  }
 ],
 "metadata": {
  "kernelspec": {
   "display_name": "Python 3",
   "language": "python",
   "name": "python3"
  },
  "language_info": {
   "codemirror_mode": {
    "name": "ipython",
    "version": 3
   },
   "file_extension": ".py",
   "mimetype": "text/x-python",
   "name": "python",
   "nbconvert_exporter": "python",
   "pygments_lexer": "ipython3",
   "version": "3.6.4"
  }
 },
 "nbformat": 4,
 "nbformat_minor": 2
}
