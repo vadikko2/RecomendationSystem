{
 "cells": [
  {
   "cell_type": "code",
   "execution_count": 1,
   "metadata": {},
   "outputs": [],
   "source": [
    "import requests as req\n",
    "import lxml.html\n",
    "import json\n",
    "import re, os\n",
    "import pickle"
   ]
  },
  {
   "cell_type": "code",
   "execution_count": 2,
   "metadata": {},
   "outputs": [],
   "source": [
    "def get_song_tags(artist = \"\", track = \"\"):\n",
    "    tmp_artist = artist.lower().replace(' ', '+')\n",
    "    tmp_track = track.lower().replace(' ', '+')\n",
    "    url = f'https://www.last.fm/music/{tmp_artist}/_/{tmp_track}'\n",
    "    html_from_last_fm = req.get(url).text\n",
    "    html = lxml.html.fromstring(html_from_last_fm)\n",
    "    track_dict = {'artist': artist, 'track': track, 'tags':[]}\n",
    "    for li in html.xpath(\"//ul[@class='tags-list tags-list--global']/li\"):\n",
    "        track_dict['tags'].append(str(li.text_content().lower().replace('-', ' ')))\n",
    "    return track_dict"
   ]
  },
  {
   "cell_type": "code",
   "execution_count": 3,
   "metadata": {},
   "outputs": [],
   "source": [
    "def get_track_list(path):\n",
    "    for file in os.listdir(path):\n",
    "        track_info = re.split('[-]', file[:-4])\n",
    "        if track_info[0][-1] == ' ':\n",
    "            track_info[0] = track_info[0][:-1]\n",
    "        if track_info[1][0] == ' ':\n",
    "            track_info[1] = track_info[1][1:]\n",
    "        yield track_info[0], track_info[1], file"
   ]
  },
  {
   "cell_type": "code",
   "execution_count": 4,
   "metadata": {},
   "outputs": [],
   "source": [
    "def get_json(path):\n",
    "    info = []\n",
    "    #TODO добавить проверку на наличие тегов. Если нет тегов дальше ничего не делаем\n",
    "    for artist, track, file_name in get_track_list(path):\n",
    "        meta = get_song_tags(artist= artist, track= track)\n",
    "        meta['file_name'] = file_name\n",
    "        if meta['tags']:\n",
    "            info.append(meta)\n",
    "    return info"
   ]
  },
  {
   "cell_type": "code",
   "execution_count": 5,
   "metadata": {},
   "outputs": [],
   "source": [
    "def dump(info, path, user_id):\n",
    "    with open(path+f'{user_id}_info.json', 'w') as fp:\n",
    "        json.dump(info, fp, sort_keys=True, indent=4)"
   ]
  },
  {
   "cell_type": "code",
   "execution_count": 6,
   "metadata": {},
   "outputs": [],
   "source": [
    "def load_ganres(path):\n",
    "    for filename in os.listdir(os.path.abspath(path)):\n",
    "        sub_ganres = []\n",
    "        with open(os.path.abspath(path)+'\\\\'+filename, 'r') as f:\n",
    "            yield filename[:-4], [tag.lower().replace('-', ' ') for tag in f.read().split('\\n')]"
   ]
  },
  {
   "cell_type": "code",
   "execution_count": 7,
   "metadata": {},
   "outputs": [],
   "source": [
    "def init_ganres_co_occ(path, co_occ_path):\n",
    "    co_occ = {}\n",
    "    for ganre, sub_ganres in load_ganres(path):\n",
    "        co_occ[ganre] = {}\n",
    "        for sg in sub_ganres:\n",
    "            co_occ[ganre][sg] = 0\n",
    "    with open(co_occ_path+'ganresCoOcc.pkl', 'wb') as f:\n",
    "        pickle.dump(co_occ, f, pickle.HIGHEST_PROTOCOL)\n",
    "    return co_occ"
   ]
  },
  {
   "cell_type": "code",
   "execution_count": 8,
   "metadata": {},
   "outputs": [],
   "source": [
    "def who_exist(co_occ_el, tags):\n",
    "    first = co_occ_el.keys()\n",
    "    result = []\n",
    "    for t in tags:\n",
    "        if t in first:\n",
    "            result.append(t)\n",
    "    return result"
   ]
  },
  {
   "cell_type": "code",
   "execution_count": 9,
   "metadata": {},
   "outputs": [],
   "source": [
    "def update_ganres_co_occ(co_occ, dataset_json):\n",
    "    for song in dataset_json:\n",
    "        tags = song['tags']\n",
    "        for key in co_occ:\n",
    "            existed = who_exist(co_occ[key], tags)\n",
    "            if len(existed):\n",
    "                for tag in tags:\n",
    "                    if tag in existed:\n",
    "                        co_occ[key][tag]+=1\n",
    "                    else:\n",
    "                        co_occ[key][tag] = 1\n",
    "    return co_occ"
   ]
  },
  {
   "cell_type": "code",
   "execution_count": 10,
   "metadata": {},
   "outputs": [
    {
     "name": "stdout",
     "output_type": "stream",
     "text": [
      "[{'artist': '2Pac', 'track': 'Dear Mama', 'tags': ['rap', 'hip hop', '2pac', 'gangsta rap', 'hip hop'], 'file_name': '2Pac - Dear Mama.mp3'}, {'artist': 'AC_DC', 'track': 'Hells Bells', 'tags': ['hard rock', 'rock', 'classic rock', 'heavy metal'], 'file_name': 'AC_DC - Hells Bells.mp3'}, {'artist': 'DJ Snake', 'track': 'Magenta Riddim', 'tags': ['party', '2018', 'moombahton', '2018 single'], 'file_name': 'DJ Snake - Magenta Riddim.mp3'}, {'artist': 'Elthon John', 'track': 'Sacrifice', 'tags': ['pop', '80s', 'elton john', 'classic rock', 'british'], 'file_name': 'Elthon John - Sacrifice.mp3'}, {'artist': 'Eminem', 'track': 'Framed', 'tags': ['american', '2018 single', 'return to origins'], 'file_name': 'Eminem - Framed.mp3'}, {'artist': 'Godsmack', 'track': 'I Stand Alone', 'tags': ['hard rock', 'metal', 'nu metal', 'rock', 'godsmack'], 'file_name': 'Godsmack - I Stand Alone.mp3'}, {'artist': 'Mozart', 'track': 'Requiem in D minor Complete Full', 'tags': ['classical', 'instrumental', 'composers', 'classic'], 'file_name': 'Mozart - Requiem in D minor Complete Full.mp3'}, {'artist': 'Nirvana', 'track': 'Lithium', 'tags': ['grunge', 'rock', '90s', 'alternative', 'nirvana'], 'file_name': 'Nirvana - Lithium.mp3'}]\n"
     ]
    }
   ],
   "source": [
    "co_occ = init_ganres_co_occ(path='..\\\\ganres\\\\', co_occ_path='..\\\\')\n",
    "info = get_json('..\\\\tracks\\\\')\n",
    "print(info)\n",
    "dump(info,'..\\\\jsons\\\\', 1)\n",
    "#TODO После генерации фитч добавить в json поле 'features' чтобы можно было обращаться на прямую"
   ]
  },
  {
   "cell_type": "code",
   "execution_count": 11,
   "metadata": {
    "scrolled": true
   },
   "outputs": [],
   "source": [
    "updated_co_occ = update_ganres_co_occ(co_occ, info)\n",
    "dump(updated_co_occ,'..\\\\', 'co_occ')"
   ]
  }
 ],
 "metadata": {
  "kernelspec": {
   "display_name": "Python 3",
   "language": "python",
   "name": "python3"
  },
  "language_info": {
   "codemirror_mode": {
    "name": "ipython",
    "version": 3
   },
   "file_extension": ".py",
   "mimetype": "text/x-python",
   "name": "python",
   "nbconvert_exporter": "python",
   "pygments_lexer": "ipython3",
   "version": "3.6.4"
  }
 },
 "nbformat": 4,
 "nbformat_minor": 2
}
