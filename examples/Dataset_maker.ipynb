{
 "cells": [
  {
   "cell_type": "code",
   "execution_count": 1,
   "metadata": {},
   "outputs": [],
   "source": [
    "import sys\n",
    "sys.path.insert(0, r'../')\n",
    "import src.dataset as ds\n",
    "import os\n",
    "import json\n",
    "import src.html_lastfm_parser as hlp"
   ]
  },
  {
   "cell_type": "code",
   "execution_count": 2,
   "metadata": {},
   "outputs": [],
   "source": [
    "def read_json(path, filename):\n",
    "    with open(path+filename) as f:\n",
    "        return json.load(f)"
   ]
  },
  {
   "cell_type": "code",
   "execution_count": 8,
   "metadata": {},
   "outputs": [],
   "source": [
    "def init_features(path_with_infos = '../jsons/'):\n",
    "    for file_info in os.listdir(path_with_infos):#идем по файлам info.json\n",
    "        user_id = tracks=file_info[:-10]\n",
    "        f_extr_params = {\n",
    "            'path_from':\"../tracks/{tracks}/\".format(tracks=user_id),\n",
    "            'path_to':\"../mfccs/\",\n",
    "            'tmp_path_for_wavs':\"../wavs/\",\n",
    "            'separator':\"/\",\n",
    "            'methode':\"mfcc\",\n",
    "            'linear':True\n",
    "        }\n",
    "        info = read_json(path_with_infos, file_info)#считываем\n",
    "        info = ds.init_features(info, f_extr_params=f_extr_params)#вытаскиваем фитчи и добавляем в json адрес с фитчами\n",
    "        hlp.dump(info, path_with_infos, user_id)#пересохраняем обновленный json"
   ]
  },
  {
   "cell_type": "code",
   "execution_count": 4,
   "metadata": {},
   "outputs": [],
   "source": [
    "def get_dataset(path_with_infos='../jsons/'):\n",
    "    co_occ = hlp.load_co_occ()\n",
    "    X, dY = ds.make_dataset_for_classifier(path_with_jsons=path_with_infos)\n",
    "    Y = []\n",
    "    for y in dY:\n",
    "        Y.append(co_occ, y)\n",
    "    Y = np.asarray(Y)\n",
    "    return X, Y"
   ]
  }
 ],
 "metadata": {
  "kernelspec": {
   "display_name": "Python 3",
   "language": "python",
   "name": "python3"
  },
  "language_info": {
   "codemirror_mode": {
    "name": "ipython",
    "version": 3
   },
   "file_extension": ".py",
   "mimetype": "text/x-python",
   "name": "python",
   "nbconvert_exporter": "python",
   "pygments_lexer": "ipython3",
   "version": "3.6.4"
  }
 },
 "nbformat": 4,
 "nbformat_minor": 2
}
