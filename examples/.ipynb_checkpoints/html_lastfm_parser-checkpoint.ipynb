{
 "cells": [
  {
   "cell_type": "code",
   "execution_count": 104,
   "metadata": {},
   "outputs": [],
   "source": [
    "import requests as req\n",
    "import lxml.html\n",
    "import json\n",
    "import re, os\n",
    "import pickle\n",
    "import codecs"
   ]
  },
  {
   "cell_type": "code",
   "execution_count": 75,
   "metadata": {},
   "outputs": [],
   "source": [
    "def tags_filter(tags, artist, track):\n",
    "    filtered = []\n",
    "    #garbage = ['indie','alternative', 'audio','happy','love', 'emotional', 'music', 'beautiful', 'russian', 'american', 'ukrainian', 'canadian', 'german', 'hawaiian', 'australian', 'classic', 'classical']+[str(i) for i in range(10)]\n",
    "    garbage = [str(i) for i in range(10)]\n",
    "    for tag in tags:\n",
    "        check = True\n",
    "        for g in garbage:\n",
    "            if (g in tag) or (artist in tag) or (track in tag):\n",
    "                check = False\n",
    "                break\n",
    "        if check:\n",
    "            filtered.append(tag)\n",
    "    return filtered"
   ]
  },
  {
   "cell_type": "code",
   "execution_count": 136,
   "metadata": {},
   "outputs": [],
   "source": [
    "def get_song_tags(artist = \"\", track = \"\"):\n",
    "    tmp_artist = artist.lower().replace(' ', '+')\n",
    "    tmp_track = track.lower().replace(' ', '+')\n",
    "    url = f'https://www.last.fm/music/{tmp_artist}/_/{tmp_track}'\n",
    "    html_from_last_fm = req.get(url).text\n",
    "    html = lxml.html.fromstring(html_from_last_fm)\n",
    "    track_dict = {'artist': artist, 'track': track, 'tags':[]}\n",
    "    for li in html.xpath(\"//ul[@class='tags-list tags-list--global']/li\"):\n",
    "        track_dict['tags'].append(str(li.text_content().lower().replace('-', ' ')))\n",
    "    track_dict['tags'] = tags_filter(track_dict['tags'], tmp_artist, tmp_track)\n",
    "    print('{artist}-{track} tags was parsed: {tags}'.format(artist=artist, track=track, tags=track_dict['tags']))\n",
    "    return track_dict"
   ]
  },
  {
   "cell_type": "code",
   "execution_count": 77,
   "metadata": {},
   "outputs": [],
   "source": [
    "def get_track_list(path):\n",
    "    for file in os.listdir(path):\n",
    "        track_info = re.split('[-]', file[:-4])\n",
    "        if track_info[0][-1] == ' ':\n",
    "            track_info[0] = track_info[0][:-1]\n",
    "        if track_info[1][0] == ' ':\n",
    "            track_info[1] = track_info[1][1:]\n",
    "        yield track_info[0], track_info[1], file"
   ]
  },
  {
   "cell_type": "code",
   "execution_count": 78,
   "metadata": {},
   "outputs": [],
   "source": [
    "def get_json(path):\n",
    "    info = []\n",
    "    for artist, track, file_name in get_track_list(path):\n",
    "        meta = get_song_tags(artist= artist, track= track)\n",
    "        meta['file_name'] = file_name\n",
    "        if meta['tags']:\n",
    "            info.append(meta)\n",
    "    return info"
   ]
  },
  {
   "cell_type": "code",
   "execution_count": 154,
   "metadata": {},
   "outputs": [],
   "source": [
    "def dump(info, path, user_id):\n",
    "    with open(path+f'{user_id}_info.json', 'w') as fp:\n",
    "        json.dump(info, fp, sort_keys=True, indent=4)"
   ]
  },
  {
   "cell_type": "code",
   "execution_count": 80,
   "metadata": {},
   "outputs": [],
   "source": [
    "def load_ganres(path):\n",
    "    for filename in os.listdir(os.path.abspath(path)):\n",
    "        sub_ganres = []\n",
    "        with open(os.path.abspath(path)+'\\\\'+filename, 'r') as f:\n",
    "            yield filename[:-4], [tag.lower().replace('-', ' ') for tag in f.read().split('\\n')]"
   ]
  },
  {
   "cell_type": "code",
   "execution_count": 81,
   "metadata": {},
   "outputs": [],
   "source": [
    "def dump_ganres_co_occ(co_occ_path, co_occ):\n",
    "    with open(co_occ_path+'ganresCoOcc.pkl', 'wb') as f:\n",
    "        pickle.dump(co_occ, f, pickle.HIGHEST_PROTOCOL)    "
   ]
  },
  {
   "cell_type": "code",
   "execution_count": 90,
   "metadata": {},
   "outputs": [],
   "source": [
    "def init_ganres_co_occ(path, co_occ_path):\n",
    "    co_occ = {}\n",
    "    for ganre, sub_ganres in load_ganres(path):\n",
    "        #co_occ[ganre] = {}\n",
    "        for sg in sub_ganres:\n",
    "            #co_occ[ganre][sg] = 0\n",
    "            co_occ[sg] = 0\n",
    "    dump_ganres_co_occ(co_occ_path, co_occ)\n",
    "    return co_occ"
   ]
  },
  {
   "cell_type": "code",
   "execution_count": 83,
   "metadata": {},
   "outputs": [],
   "source": [
    "def who_exist(co_occ_el, tags):\n",
    "    first = co_occ_el.keys()\n",
    "    result = []\n",
    "    for t in tags:\n",
    "        if t in first:\n",
    "            result.append(t)\n",
    "    return result"
   ]
  },
  {
   "cell_type": "code",
   "execution_count": 84,
   "metadata": {},
   "outputs": [],
   "source": [
    "def update_ganres_co_occ(co_occ, dataset_json):\n",
    "    for song in dataset_json:\n",
    "        tags = song['tags']\n",
    "        #for key in co_occ:\n",
    "        #xisted = who_exist(co_occ[key], tags)\n",
    "        existed = who_exist(co_occ, tags)\n",
    "        if len(existed):\n",
    "            for tag in tags:\n",
    "                if tag in existed:\n",
    "                    #co_occ[key][tag]+=1\n",
    "                    co_occ[tag]+=1\n",
    "                else:\n",
    "                    #co_occ[key][tag] = 1\n",
    "                    co_occ[tag] = 1\n",
    "    return co_occ"
   ]
  },
  {
   "cell_type": "code",
   "execution_count": 173,
   "metadata": {},
   "outputs": [],
   "source": [
    "def init_co_occ_matrix(path_with_ganres='..\\\\ganres_full\\\\', path_to_save='..\\\\'):\n",
    "    co_occ = init_ganres_co_occ(path=path_with_ganres, co_occ_path=path_to_save)\n",
    "    print(co_occ)\n",
    "    return co_occ"
   ]
  },
  {
   "cell_type": "code",
   "execution_count": 174,
   "metadata": {
    "scrolled": true
   },
   "outputs": [
    {
     "ename": "IndentationError",
     "evalue": "expected an indented block (<ipython-input-174-4b11df134dba>, line 2)",
     "output_type": "error",
     "traceback": [
      "\u001b[1;36m  File \u001b[1;32m\"<ipython-input-174-4b11df134dba>\"\u001b[1;36m, line \u001b[1;32m2\u001b[0m\n\u001b[1;33m    for folder in os.listdir(path_with_tracks):\u001b[0m\n\u001b[1;37m      ^\u001b[0m\n\u001b[1;31mIndentationError\u001b[0m\u001b[1;31m:\u001b[0m expected an indented block\n"
     ]
    }
   ],
   "source": [
    "def update_co_occ_matrix(co_occ, path_with_tracks='..\\\\tracks\\\\', path_to_save_info='..\\\\jsons\\\\', path_to_save_co_occ='..\\\\'):\n",
    "    for folder in os.listdir(path_with_tracks):\n",
    "        info = get_json('{path}{folder}\\\\'.format(folder=folder, path=path_with_tracks))\n",
    "        print(folder, info)\n",
    "        dump(info, path_to_save_info, folder)\n",
    "        co_occ = update_ganres_co_occ(co_occ, info)\n",
    "        dump_ganres_co_occ(path_to_save_co_occ, co_occ)\n",
    "        dump(co_occ,path_to_save_co_occ, 'co_occ')\n",
    "    return co_occ\n",
    "#TODO После генерации фитч добавить в json поле 'features' чтобы можно было обращаться на прямую"
   ]
  },
  {
   "cell_type": "code",
   "execution_count": 171,
   "metadata": {},
   "outputs": [
    {
     "name": "stdout",
     "output_type": "stream",
     "text": [
      "[('rock', 174), ('alternative', 87), ('alternative rock', 77), ('hard rock', 47), ('classic rock', 45), ('indie', 36), ('punk rock', 24), ('pop', 23), ('electronic', 22), ('metal', 20), ('indie rock', 20), ('punk', 17), ('female vocalists', 13), ('progressive rock', 12), ('hip hop', 12), ('british', 11), ('singer songwriter', 11), ('soundtrack', 11), ('heavy metal', 11), ('dance', 11), ('power metal', 10), ('house', 9), ('oldies', 9), ('pop punk', 9), ('green day', 8), ('speed metal', 8), ('garage rock', 8), ('indie pop', 8), ('cover', 7), ('post grunge', 7), ('folk', 7), ('rap', 7), ('country', 7), ('edm', 6), ('my chemical romance', 6), ('instrumental', 6), ('extreme power metal', 6), ('nu metal', 6), ('gothic metal', 6), ('alternative metal', 6), ('trap', 6), ('ballad', 5), ('beautiful', 5), ('fip', 5), ('soul', 5), ('emo', 5), ('glam rock', 5), ('russian', 5), ('gothic', 4), ('piano', 4), ('electro', 4), ('swedish', 4), ('acoustic', 4), ('canadian', 4), ('german', 4), ('awesome', 4), ('new wave', 4), ('symphonic metal', 4), ('electro house', 4), ('chillout', 3), ('finnish', 3), ('progressive', 3), ('irish', 3), ('melodic hardcore', 3), ('paul mccartney', 3), ('pop rock', 3), ('jazz', 3), ('moombahton', 3), ('dubstep', 3), ('ambient', 3), ('blues rock', 3), ('blues', 3), ('experimental', 3), ('rave', 2), ('barong family', 2), ('the beatles', 2), ('john lennon', 2), ('pulp fiction', 2), ('system of a down', 2), ('rock ballad', 2), ('female fronted metal', 2), ('russian rock', 2), ('evans blue', 2), ('rock n roll', 2), ('rnb', 2), ('oh my god this song is fucking amazing', 2), ('led zeppelin', 2), ('johnny cash', 2), ('party', 2), ('catchy', 2), ('norwegian', 2), ('southern rock', 2), ('psychedelic rock', 2), ('thrash metal', 2), ('progressive metal', 2), ('grunge', 2), ('soft rock', 2), ('indie folk', 2), ('folk rock', 2), ('grime', 2), ('progressive house', 2), ('bass house', 2), ('drum and bass', 2), ('disco', 2), ('classic country', 2), ('djs', 1), ('croatian', 1), ('cyberpunk', 1), ('cybergrunge', 1), ('dirty electro', 1), ('london', 1), ('wolv', 1), ('dyro', 1), ('zara larsson', 1), ('ariana grande', 1), ('bigroom house', 1), ('big room', 1), ('electronic dance music', 1), ('progressive death metal', 1), ('crazy shit', 1), ('zef', 1), ('memphis rap', 1), ('southern hip hop', 1), ('fast flow', 1), ('russian rap', 1), ('crossover', 1), ('rac', 1), ('eletronic', 1), ('gang', 1), ('post nerdcore', 1), ('british invasion', 1), ('surf', 1), ('jimi hendrix', 1), ('jazz instrumental', 1), ('love songs', 1), ('power ballad', 1), ('melodic rock', 1), ('album rock', 1), ('arena rock', 1), ('aor', 1), ('rem', 1), ('queen', 1), ('mgs', 1), ('trumpet', 1), ('louis armstrong', 1), ('racism', 1), ('racist country', 1), ('singer songwritter', 1), ('happy', 1), ('summer', 1), ('david bowie', 1), ('astronaut', 1), ('space', 1), ('trucking anthems', 1), ('trucker', 1), ('within temptation', 1), ('great lyrics', 1), ('school', 1), ('winter', 1), ('female fronted rock', 1), ('michael', 1), ('angel', 1), ('angels', 1), ('like', 1), ('guitar', 1), ('new metal', 1), ('stone sour', 1), ('australian', 1), ('seether', 1), ('alan wake', 1), ('melancholic', 1), ('modern rock', 1), ('melodic metal', 1), ('without music', 1), ('a   capella', 1), ('acapella', 1), ('a capella', 1), ('sirds esiba', 1), ('joenaab', 1), ('discoverockult', 1), ('le temps pour', 1), ('radio andree', 1), ('ballads', 1), ('notshittypolish', 1), ('sslow', 1), ('hazeland', 1), ('groove', 1), ('once', 1), ('sad', 1), ('love', 1), ('love evans blue for songs like this one', 1), ('solos increibles', 1), ('acordes geniales', 1), ('male vocalists', 1), ('david cook', 1), ('american artist', 1), ('bon jovi', 1), ('atmospheric rock', 1), ('alter bridge', 1), ('alanis morissette', 1), ('the oc', 1), ('the offspring', 1), ('the killers', 1), ('psychedelic', 1), ('scrubs', 1), ('snow patrol', 1), ('remix', 1), ('anti war', 1), ('mellow', 1), ('french', 1), ('james bond', 1), ('michael jackson', 1), ('icelandic', 1), ('harry potter', 1), ('classic', 1), ('composers', 1), ('itunes uk single of the week', 1), ('catching fire soundtrack', 1), ('riverdale', 1), ('synth', 1), ('drinking songs', 1), ('gothabilly', 1), ('horror country', 1), ('elton john', 1), ('motown', 1), ('folk punk rock', 1), ('energetic', 1), ('hollywood undead', 1), ('catching fire', 1), ('voltron', 1), ('music choice: rock', 1), ('emocore', 1), ('bee gees', 1), ('theme song', 1), ('big bang theory', 1), ('a ha', 1), ('gangsta rap', 1), ('surf rock', 1), ('rock and roll', 1), ('rapcore', 1), ('psychobilly', 1), ('folk punk', 1), ('doom metal', 1), ('technical death metal', 1), ('death metal', 1), ('post rock', 1), ('gothic rock', 1), ('christian rock', 1), ('funk', 1), ('britpop', 1), ('swing', 1), ('dixieland', 1), ('nerdcore', 1), ('cloud rap', 1), ('chillstep', 1), ('dutch house', 1), ('hardcore', 1), ('electronica', 1), ('jump up', 1), ('rockabilly', 1), ('baroque', 1), ('romantic', 1), ('classical', 1), ('rhythm and blues', 1), ('southern soul', 0), ('neo soul', 0), ('northern soul', 0), ('blue eyed soul', 0), ('nagoya kei', 0), ('visual kei', 0), ('sufi rock', 0), ('stoner rock', 0), ('rockjazz', 0), ('rap rock', 0), ('skate punk', 0), ('riot grrrl', 0), ('nazi punk', 0), ('horror punk', 0), ('street punk', 0), ('powerviolence', 0), ('thrashcore', 0), ('screamo', 0), ('post hardcore', 0), ('hardcore punk', 0), ('pornogrind', 0), ('goregrind', 0), ('noisegrind', 0), ('crustgrind', 0), ('garage punk', 0), ('gypsy punk', 0), ('celtic punk', 0), ('deathrock', 0), ('christian punk', 0), ('art punk', 0), ('d beat', 0), ('crust punk', 0), ('anarcho punk', 0), ('raga rock', 0), ('neo psychedelia', 0), ('freakbeat', 0), ('acid rock', 0), ('rock in opposition', 0), ('new prog', 0), ('canterbury scene', 0), ('desert rock', 0), ('paisley underground', 0), ('world fusion', 0), ('groove metal', 0), ('crossover thrash', 0), ('sludge metal', 0), ('rap metal', 0), ('djent', 0), ('neoclassical metal', 0), ('mathcore', 0), ('deathcore', 0), ('melodic metalcore', 0), ('metalcore', 0), ('latin metal', 0), ('kawaii metal', 0), ('grindcore', 0), ('glam metal', 0), ('funk metal', 0), ('pagan metal', 0), ('medieval metal', 0), ('celtic metal', 0), ('folk metal', 0), ('drone metal', 0), ('death doom', 0), ('national socialist black metal', 0), ('deathgrind', 0), ('melodic death metal', 0), (\"death 'n' roll\", 0), ('unblack metal', 0), ('christian metal', 0), ('war metal', 0), ('viking metal', 0), ('symphonic black metal', 0), ('black metal', 0), ('avant garde metal', 0), ('post metal', 0), ('noise rock', 0), ('no wave', 0), ('post punk', 0), ('art rock', 0), ('experimental rock', 0), ('dark cabaret', 0), ('beat music', 0), ('slowcore', 0), ('sadcore', 0), ('post punk revival', 0), ('math rock', 0), ('dunedin sound', 0), ('shoegaze', 0), ('dream pop', 0), ('post britpop', 0), ('rock music', 0), ('pbr&b', 0), ('p funk', 0), ('hip hop soul', 0), ('go go', 0), ('deep funk', 0), ('r&b', 0), ('worldbeat', 0), ('wonky pop', 0), ('vispop', 0), ('turkish pop', 0), ('traditional pop music', 0), ('teen pop', 0), ('surf pop', 0), ('sunshine pop', 0), ('space age pop', 0), ('sophisti pop', 0), ('schlager', 0), ('rebetiko', 0), ('psychedelic pop', 0), ('progressive pop', 0), ('pop soul', 0), ('emo pop', 0), ('neon pop', 0), ('power pop', 0), ('pop rap', 0), ('operatic pop', 0), ('new romantic', 0), ('mexican pop', 0), ('louisiana swamp pop', 0), ('trot', 0), (\"t'ong guitar\", 0), ('korean rock', 0), ('korean hip hop', 0), ('k pop (korean popular music)', 0), ('jangle pop', 0), ('j pop (japanese popular music)', 0), ('iranian pop', 0), ('folk pop', 0), ('russian pop', 0), ('nederpop', 0), ('laiko', 0), ('french pop', 0), ('austropop', 0), ('europop', 0), ('hokkien pop', 0), ('c pop (chinese popular music)', 0), ('classical crossover', 0), ('christian pop', 0), ('canzone', 0), ('cancion', 0), ('bubblegum pop', 0), ('brill building', 0), ('baroque pop', 0), ('arab pop', 0), ('adult contemporary', 0), ('vallenato', 0), ('tropipop', 0), ('son', 0), ('salsa romantica', 0), ('guajira', 0), ('porro', 0), ('chicha', 0), ('cumbia', 0), ('criolla', 0), ('bolero', 0), ('bachata', 0), ('tropical', 0), ('nueva cancion', 0), ('musica criolla', 0), ('mexican son', 0), ('huayno', 0), ('fado', 0), ('bullerengue', 0), ('tango', 0), ('flamenco', 0), ('traditional', 0), ('tejano', 0), ('norteno', 0), ('ranchera', 0), ('mariachi', 0), ('grupera', 0), ('banda', 0), ('regional mexican', 0), ('latin trap', 0), ('rock en espanol', 0), ('latin alternative', 0), ('latin rock', 0), ('latin swing', 0), ('latin ballad', 0), ('latin pop', 0), ('latin christian', 0), ('samba rock', 0), ('pagode', 0), ('samba', 0), ('musica sertaneja', 0), ('tropicalia', 0), ('musica popular brasileira', 0), ('maracatu', 0), ('zouk lambada', 0), ('lambada', 0), ('funk carioca', 0), ('frevo', 0), ('forro', 0), ('choro', 0), ('tecnobrega', 0), ('brega', 0), ('brazilian rock', 0), ('axe', 0), ('brazilian', 0), ('latin', 0), ('', 0), ('west coast jazz', 0), ('vocal jazz', 0), ('trad jazz', 0), ('third stream', 0), ('straight ahead jazz', 0), ('stride jazz', 0), ('soul jazz', 0), ('smooth jazz', 0), ('ska jazz', 0), ('shibuya kei', 0), ('ragtime', 0), ('punk jazz', 0), ('post bop', 0), ('orchestral jazz', 0), ('nu jazz', 0), ('novelty ragtime', 0), ('neo swing', 0), ('neo bop jazz', 0), ('modal jazz', 0), ('mainstream jazz', 0), ('m base', 0), ('latin jazz', 0), ('kansas city jazz', 0), ('jazz rock', 0), ('jazz fusion', 0), ('jazz funk', 0), ('jazz blues', 0), ('hard bop', 0), ('gypsy jazz', 0), ('free jazz', 0), ('free improvisation', 0), ('free funk', 0), ('european free jazz', 0), ('ethno jazz', 0), ('crossover jazz', 0), ('cool jazz', 0), ('continental jazz', 0), ('chamber jazz', 0), ('british dance band', 0), ('bossa nova', 0), ('boogie woogie', 0), ('bebop', 0), ('avant garde jazz', 0), ('asian american jazz', 0), ('afro cuban jazz', 0), ('urban pasifika', 0), (\"jerkin'\", 0), ('snap', 0), ('political hip hop', 0), ('old school hip hop', 0), ('new school hip hop', 0), ('new jack swing', 0), ('mumble rap', 0), ('motswako', 0), ('merenrap', 0), ('low bap', 0), ('lyrical hip hop', 0), ('jazz rap', 0), ('instrumental hip hop', 0), ('industrial hip hop', 0), ('hyphy', 0), ('hip pop', 0), ('hardcore hip hop', 0), ('golden age hip hop', 0), ('g funk', 0), ('experimental hip hop', 0), ('emo hip hop', 0), ('drill', 0), ('crunkcore', 0), ('crunk', 0), ('conscious hip hop', 0), ('christian hip hop', 0), ('chopper rap', 0), ('chap hop', 0), ('british hip hop', 0), ('boom bap', 0), ('australian hip hop', 0), ('alternative hip hop', 0), ('cowboy/western music', 0), ('sung poetry', 0), ('skiffle', 0), ('singer songwriter movement', 0), ('psychedelic folk', 0), ('protest song', 0), ('progressive folk', 0), ('neofolk', 0), ('industrial folk', 0), ('freak folk', 0), ('filk music', 0), ('contemporary folk', 0), ('chalga', 0), ('celtic music', 0), ('british folk revival', 0), ('anti folk', 0), ('american folk revival', 0), ('folk music', 0), ('nintendocore', 0), ('skweee', 0), ('shiny', 0), ('game boy music', 0), ('bitpop', 0), ('chiptune', 0), ('video game music', 0), ('uk funky', 0), ('4x4 garage', 0), ('bassline', 0), ('speed garage', 0), ('grindie', 0), ('future garage', 0), ('breakstep', 0), ('metalstep', 0), ('trapstep', 0), ('reggaestep', 0), ('brostep', 0), ('2 step garage', 0), ('uk garage', 0), ('vocal trance', 0), ('uplifting trance', 0), ('tech trance', 0), ('progressive trance', 0), ('goa trance', 0), ('suomisaundi', 0), ('full on', 0), ('psychedelic trance', 0), ('nitzhonot', 0), ('hard trance', 0), ('euro trance', 0), ('dream trance', 0), ('balearic trance', 0), ('acid trance', 0), ('trance music', 0), ('techdombe', 0), ('tecno brega', 0), ('nortec', 0), ('minimal techno', 0), ('free tekno', 0), ('detroit techno', 0), ('acid techno', 0), ('techno', 0), ('dance rock', 0), ('dance pop', 0), ('vaporwave', 0), ('chillwave', 0), ('electropop', 0), ('boogie', 0), ('post disco', 0), ('raggacore', 0), ('darkcore jungle', 0), ('jungle', 0), ('wonky', 0), ('glitch hop', 0), ('glitch', 0), ('idm', 0), ('power noise', 0), ('death industrial', 0), ('power electronics', 0), ('neue deutsche harte', 0), ('japanoise', 0), ('industrial rock', 0), ('industrial metal', 0), ('futurepop', 0), ('electronic body music', 0), ('dark electro', 0), ('electro industrial', 0), ('cybergrind', 0), ('aggrotech', 0), ('industrial music', 0), ('witch house', 0), ('trival', 0), ('tribal house', 0), ('tech house', 0), ('rara tech', 0), ('outsider house', 0), ('new beat', 0), ('microhouse/minimal house', 0), ('latin house', 0), ('kidandali', 0), ('jazz house', 0), ('italo house', 0), ('hip house', 0), ('hard nrg', 0), ('hard dance', 0), ('hard house', 0), ('hardbag', 0), ('ghettotech', 0), ('ghetto house', 0), ('garage house', 0), ('funky house', 0), ('french house', 0), ('moombahcore', 0), ('fidget house', 0), ('complextro', 0), ('big room house', 0), ('diva house', 0), ('tropical house', 0), ('g house', 0), ('future house', 0), ('deep house', 0), ('chicago house', 0), ('balearic beat', 0), ('ambient house', 0), ('acid house', 0), ('house music', 0), ('italo dance', 0), ('bubblegum dance', 0), ('eurodance', 0), ('eurobeat', 0), ('hi nrg', 0), ('lento violento', 0), ('jumpstyle', 0), ('dubstyle', 0), ('hardstyle', 0), ('doomcore', 0), ('uk hardcore', 0), ('speedcore', 0), ('makina', 0), ('happy hardcore', 0), ('darkcore', 0), ('digital hardcore', 0), ('hardbass', 0), ('breakcore', 0), ('bouncy techno', 0), ('breakbeat hardcore', 0), ('4 beat', 0), ('gabba', 0), ('livetronica', 0), ('laptronica', 0), ('funktronica', 0), ('folktronica', 0), ('ethnic electronica', 0), ('berlin school', 0), ('synthpop', 0), ('space rock', 0), ('nu gaze', 0), ('new rave', 0), ('minimal wave', 0), ('krautrock', 0), ('ethereal wave', 0), ('electropunk', 0), ('electronicore', 0), ('electroclash', 0), ('dark wave', 0), ('dance punk', 0), ('coldwave', 0), ('indietronica', 0), ('alternative dance', 0), ('electronic rock', 0), ('acousmatic music', 0), ('electroacoustic music', 0), ('freestyle music', 0), ('electro swing', 0), ('electro music', 0), ('dubtronica', 0), ('dub techno', 0), ('dub reggae', 0), ('dub poetry', 0), ('dancehall', 0), ('techstep', 0), ('sambass', 0), ('hardstep', 0), ('funkstep', 0), ('extreme ambient', 0), ('drumstep', 0), ('darkstep', 0), ('neurohop', 0), ('neurofunk', 0), ('liquid funk', 0), ('trip hop', 0), ('chill out', 0), ('acid jazz', 0), ('downtempo', 0), ('space disco', 0), ('nu disco', 0), ('italo disco', 0), ('euro disco', 0), ('disco polo', 0), ('cosmic disco', 0), ('afro', 0), ('nu skool breaks', 0), ('jersey club', 0), ('miami bass', 0), ('nu funk', 0), ('florida breaks', 0), ('broken beat', 0), ('big beat', 0), ('baltimore club', 0), ('acid breaks', 0), ('breakbeat', 0), ('asian underground', 0), ('isolationism', 0), ('psybient', 0), ('illbient', 0), ('space music', 0), ('drone music', 0), ('dark ambient', 0), ('ambient dub', 0), ('new age music', 0), ('middle of the road', 0), ('lounge music', 0), ('furniture music', 0), ('elevator music', 0), ('beautiful music', 0), ('background music', 0), ('easy listening', 0), ('western swing', 0), ('truck driving country', 0), ('traditional country music', 0), ('sertanejo', 0), ('country pop', 0), ('neotraditional country', 0), ('nashville sound', 0), ('instrumental country', 0), ('honky tonk', 0), ('franco country', 0), ('dansband music', 0), ('close harmony', 0), ('christian country music', 0), ('cajun fiddle tunes', 0), ('cajun', 0), ('reactionary bluegrass', 0), ('progressive bluegrass', 0), ('bluegrass', 0), ('bakersfield sound', 0), ('australian country music', 0), ('americana', 0), ('texas country', 0), ('country rock', 0), ('psychobilly/punkabilly', 0), ('hellbilly music', 0), ('red dirt', 0), ('country rap', 0), ('zydeco', 0), ('progressive country', 0), ('outlaw country', 0), ('hokum', 0), ('blues country', 0), ('cowpunk', 0), ('alternative country', 0), ('parody music', 0), ('novelty music', 0), ('comedy rock', 0), ('comedy music', 0), ('trio sonata', 0), ('sinfonia', 0), ('sarabande', 0), ('passepied', 0), ('passacaglia', 0), ('partita', 0), ('minuet', 0), ('gigue', 0), ('gavotte', 0), ('fugue', 0), ('courante', 0), ('solo concerto', 0), ('concerto grosso', 0), ('chaconne', 0), ('cantata', 0), ('canon', 0), ('allemande', 0), ('renaissance', 0), ('toccata', 0), ('tiento', 0), ('sequence', 0), ('ricercar', 0), ('pavane', 0), ('motet chanson', 0), ('cantus firmus mass', 0), ('paraphrase mass', 0), ('parody mass', 0), ('cyclic mass', 0), ('madrigale spirituale', 0), ('madrigal comedy', 0), ('madrigal', 0), ('litany', 0), ('laude', 0), ('intermedio', 0), ('galliard', 0), ('chromatic fantasia', 0), ('fantasia', 0), ('chanson', 0), ('canzona', 0), ('medieval', 0), ('saltarello', 0), ('organum', 0), ('motet', 0), ('madrigal (trecento)', 0), ('gregorian chant', 0), ('estampie', 0), ('ballata', 0), ('waltz', 0), ('suite', 0), ('choral symphony', 0), ('program symphony', 0), ('symphony', 0), ('bassoon sonata', 0), ('clarinet sonata', 0), ('flute sonata', 0), ('cello sonata', 0), ('viola sonata', 0), ('violin sonata', 0), ('piano sonata', 0), ('sonata', 0), ('sinfonia concertante', 0), ('serenade', 0), ('scherzo', 0), ('rondo', 0), ('rhapsody', 0), ('requiem', 0), ('string quintet', 0), ('piano quintet', 0), ('quintet', 0), ('oboe quartet', 0), ('string quartet', 0), ('piano quartet', 0), ('quartet', 0), ('prelude', 0), ('polonaise', 0), ('oratorio', 0), ('concert aria', 0), ('zarzuela', 0), ('singspiel', 0), ('symphonic poem', 0), ('concert overture', 0), ('overture', 0), ('operetta', 0), ('opera seria', 0), ('opera comique', 0), ('opera buffa', 0), ('ballad opera', 0), ('opera', 0), ('nocturne', 0), ('music hall', 0), ('march', 0), ('mazurka', 0), ('mass', 0), ('intermezzo', 0), ('impromptu', 0), ('etude', 0), ('divertimento', 0), ('violin concerto', 0), ('viola concerto', 0), ('trumpet concerto', 0), ('piano concerto', 0), ('oboe concerto', 0), ('flute concerto', 0), ('double bass concerto', 0), ('clarinet concerto', 0), ('cello concerto', 0), ('concerto', 0), ('carol', 0), ('caprice', 0), ('classical ballet', 0), ('ballet', 0), ('ballade', 0), ('bagatelle', 0), ('zouk', 0), ('twoubadou', 0), ('timba', 0), ('soca', 0), ('songo', 0), ('son cubano', 0), ('salsa', 0), ('ska punk', 0), ('2 tone', 0), ('ska', 0), ('rumba', 0), ('rocksteady', 0), ('reggaeton', 0), ('reggae fusion', 0), ('ragga jungle', 0), ('ragga', 0), ('lovers rock', 0), ('dub', 0), ('reggae', 0), ('rasin', 0), ('punta rock', 0), ('punta', 0), ('pichakaree', 0), ('mozambique', 0), ('meringue', 0), ('merengue', 0), ('mambo', 0), ('compas', 0), ('chutney parang', 0), ('chutney soca', 0), ('chutney', 0), ('cha cha cha', 0), ('calypso', 0), ('cadence lypso', 0), ('bouyon', 0), ('dancehall music', 0), ('baithak gana', 0), ('caribbean influenced', 0), ('caribbean', 0), ('west coast blues', 0), ('texas blues', 0), ('swamp blues', 0), ('st. louis blues', 0), ('soul blues', 0), ('punk blues', 0), ('piedmont blues', 0), ('memphis blues', 0), ('louisiana blues', 0), ('kansas city blues', 0), ('jump blues', 0), ('hokum blues', 0), ('hill country blues', 0), ('gospel blues', 0), ('electric blues', 0), ('detroit blues', 0), ('delta blues', 0), ('country blues', 0), ('contemporary r&b', 0), ('classic female blues', 0), ('chicago blues', 0), ('canadian blues', 0), ('british blues', 0), ('blues shouter', 0), ('african blues', 0), ('electroacoustic', 0), ('musique concrete', 0), ('lo fi', 0), ('noise', 0), ('avant garde', 0), ('gamelan', 0), ('keroncong', 0), ('ragini', 0), ('thai pop', 0), ('pop sunda', 0), ('pinoy pop', 0), ('morlam', 0), ('v pop', 0), ('original pilipino music', 0), ('manila sound', 0), ('luk krung', 0), ('luk thung', 0), ('lavani', 0), ('indian pop', 0), ('filmi', 0), ('dangdut', 0), ('bhangra', 0), ('baul', 0), ('baila', 0), ('taiwanese pop', 0), ('p pop', 0), ('onkyokei', 0), ('mandopop', 0), ('k pop', 0), ('kayokyoku', 0), ('j pop', 0), ('hong kong english pop', 0), ('enka', 0), ('c pop', 0), ('cantopop', 0), ('anison', 0), ('sawt', 0), ('liwa', 0), ('khaliji', 0), ('fijiri', 0), ('fann at tanbura', 0), ('southeast asian', 0), ('south', 0), ('east asian', 0), ('asian', 0), (\"zouglou cote d'ivoire\", 0), ('taarab', 0), ('kwassa kwassa', 0), ('soukous', 0), ('shangaan electro', 0), ('semba', 0), ('seggae', 0), ('sega', 0), ('sakara', 0), ('rai', 0), ('palm wine', 0), ('ndombolo', 0), ('morna', 0), ('amapiano', 0), ('mbube', 0), ('mbaqanga', 0), ('mbalax', 0), ('marrabenta', 0), ('maloya', 0), ('makossa', 0), ('kwela', 0), ('kwaito', 0), ('kuduro', 0), ('kizomba', 0), ('kadongo kamu', 0), ('kapuka aka boomba', 0), ('juju', 0), ('jit', 0), ('isicathamiya', 0), ('igbo rap', 0), ('igbo highlife', 0), ('hiplife', 0), ('highlife', 0), ('genge', 0), ('fuji music', 0), ('coupe decale', 0), ('congolese rumba', 0), ('chimurenga', 0), ('cape jazz', 0), ('bikutsi', 0), ('bongo flava', 0), ('benga', 0), ('apala', 0), ('afrobeat', 0), ('african hip hop xhom', 0), ('african heavy metal', 0), ('marabi', 0), ('african', 0)]\n"
     ]
    }
   ],
   "source": [
    "import operator\n",
    "sorted_x = sorted(co_occ.items(), key=operator.itemgetter(1))\n",
    "sorted_x.reverse()\n",
    "print(sorted_x)"
   ]
  }
 ],
 "metadata": {
  "kernelspec": {
   "display_name": "Python 3",
   "language": "python",
   "name": "python3"
  },
  "language_info": {
   "codemirror_mode": {
    "name": "ipython",
    "version": 3
   },
   "file_extension": ".py",
   "mimetype": "text/x-python",
   "name": "python",
   "nbconvert_exporter": "python",
   "pygments_lexer": "ipython3",
   "version": "3.6.4"
  }
 },
 "nbformat": 4,
 "nbformat_minor": 2
}
