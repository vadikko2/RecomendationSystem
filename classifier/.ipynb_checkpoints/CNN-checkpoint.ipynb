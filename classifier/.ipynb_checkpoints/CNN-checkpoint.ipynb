{
 "cells": [
  {
   "cell_type": "code",
   "execution_count": 1,
   "metadata": {},
   "outputs": [
    {
     "name": "stderr",
     "output_type": "stream",
     "text": [
      "C:\\Users\\Kozyrevsky-V\\AppData\\Local\\Continuum\\anaconda3\\lib\\site-packages\\h5py\\__init__.py:36: FutureWarning: Conversion of the second argument of issubdtype from `float` to `np.floating` is deprecated. In future, it will be treated as `np.float64 == np.dtype(float).type`.\n",
      "  from ._conv import register_converters as _register_converters\n",
      "Using TensorFlow backend.\n"
     ]
    }
   ],
   "source": [
    "from keras.models import Sequential\n",
    "from keras.layers import Dense, Dropout, Flatten\n",
    "from keras.layers import Conv2D, MaxPooling2D\n",
    "from keras import backend as K\n",
    "import sys\n",
    "import numpy as np\n",
    "sys.path.insert(0, r'../')\n",
    "import src.dataset as ds\n",
    "import src.html_lastfm_parser as hlp\n",
    "from keras.optimizers import SGD"
   ]
  },
  {
   "cell_type": "code",
   "execution_count": 4,
   "metadata": {},
   "outputs": [
    {
     "name": "stdout",
     "output_type": "stream",
     "text": [
      "(8,) (8, 30)\n"
     ]
    }
   ],
   "source": [
    "batch_size = 2\n",
    "num_classes = 10\n",
    "epochs = 12\n",
    "X, Y = ds.make_dataset_for_classifier(path_with_jsons='../jsons/')\n",
    "statistic = hlp.y_statistic(path_with_jsons='../jsons/')\n",
    "y_generator = hlp.y_transform(statistic=statistic, Y=Y)\n",
    "Y = np.asarray([y for y in y_generator])\n",
    "X = np.asarray(X) #TODO решить что делать с размерами так как сейчас размеры такие (N, ?, 13)\n",
    "print(X.shape, Y.shape)"
   ]
  }
 ],
 "metadata": {
  "kernelspec": {
   "display_name": "Python 3",
   "language": "python",
   "name": "python3"
  },
  "language_info": {
   "codemirror_mode": {
    "name": "ipython",
    "version": 3
   },
   "file_extension": ".py",
   "mimetype": "text/x-python",
   "name": "python",
   "nbconvert_exporter": "python",
   "pygments_lexer": "ipython3",
   "version": "3.6.4"
  }
 },
 "nbformat": 4,
 "nbformat_minor": 2
}
